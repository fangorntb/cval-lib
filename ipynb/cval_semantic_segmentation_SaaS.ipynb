{
  "nbformat": 4,
  "nbformat_minor": 0,
  "metadata": {
    "colab": {
      "provenance": [],
      "toc_visible": true
    },
    "kernelspec": {
      "name": "python3",
      "display_name": "Python 3"
    },
    "language_info": {
      "name": "python"
    }
  },
  "cells": [
    {
      "cell_type": "markdown",
      "source": [
        "# CVAL Semantic Segmentation SaaS"
      ],
      "metadata": {
        "id": "HUd_EYc7_Wky"
      }
    },
    {
      "cell_type": "markdown",
      "source": [
        "## Install"
      ],
      "metadata": {
        "id": "ntTDdCSi_izB"
      }
    },
    {
      "cell_type": "code",
      "execution_count": null,
      "metadata": {
        "id": "WSMwMttJw-7-"
      },
      "outputs": [],
      "source": [
        "!pip install cval-lib"
      ]
    },
    {
      "cell_type": "markdown",
      "source": [
        "## Prepare"
      ],
      "metadata": {
        "id": "IvhiGpG5_0oQ"
      }
    },
    {
      "cell_type": "code",
      "source": [
        "import os\n",
        "from pathlib import Path\n",
        "import random\n",
        "import time\n",
        "from tqdm import tqdm\n",
        "\n",
        "from cval_lib.connection import CVALConnection\n",
        "from cval_lib.frame import FrameModel\n",
        "from cval_lib.annotation import Mask, ImageSegAnnotation, SegmentationAnnotation"
      ],
      "metadata": {
        "id": "66FMOm7UxZNV"
      },
      "execution_count": null,
      "outputs": []
    },
    {
      "cell_type": "code",
      "source": [
        "USER_API_KEY = '...'"
      ],
      "metadata": {
        "id": "xcUZj_xExjUJ"
      },
      "execution_count": null,
      "outputs": []
    },
    {
      "cell_type": "code",
      "source": [
        "CONNECTION = CVALConnection(USER_API_KEY)"
      ],
      "metadata": {
        "id": "-NyzUnBCxnk0"
      },
      "execution_count": null,
      "outputs": []
    },
    {
      "cell_type": "code",
      "source": [
        "def load_annotations_yolo(labels_path: str, start=None, end=None, samples=None):\n",
        "    annotations = []\n",
        "    for i in tqdm(os.listdir(labels_path)[start:end]):\n",
        "      p = Path(labels_path) / i\n",
        "      if samples is not None and p.stem in samples:\n",
        "        with open(p, encoding='utf-8') as f:\n",
        "            masks = []\n",
        "            for mask in f.read().strip().split('\\n'):\n",
        "                if mask:\n",
        "                    label_mask_str_lst = mask.strip().split(' ')\n",
        "                    label = int(label_mask_str_lst[0])\n",
        "                    bbox = list(map(float, label_mask_str_lst[1:]))\n",
        "                    masks.append(Mask(label=label, mask=bbox))\n",
        "        annotations.append(\n",
        "            ImageSegAnnotation(image_id=Path(i).stem + '.png', masks=masks)\n",
        "        )\n",
        "    return annotations"
      ],
      "metadata": {
        "id": "_yNYbrCExuMn"
      },
      "execution_count": null,
      "outputs": []
    },
    {
      "cell_type": "code",
      "source": [
        "def load_images(images_path: str):\n",
        "  for i in os.lisdtir(images_path):\n",
        "    p = Path(images_path) / i\n",
        "    with open(p, 'rb') as f:\n",
        "      yield FrameModel(img_raw=f.read(), img_external_id=p.name)"
      ],
      "metadata": {
        "id": "3Bn0vUWv0J-v"
      },
      "execution_count": null,
      "outputs": []
    },
    {
      "cell_type": "code",
      "source": [
        "DATASET_ID = CONNECTION.dataset().create()"
      ],
      "metadata": {
        "id": "Iq9bOuet0yz4"
      },
      "execution_count": null,
      "outputs": []
    },
    {
      "cell_type": "code",
      "source": [
        "PATH_TO_TRAIN = '/content/train/images'\n",
        "PATH_TO_VAL = '/content/val/images'\n",
        "PATH_TO_TEST = '/content/test/images'\n",
        "\n",
        "TRAIN = load_images(PATH_TO_TRAIN)\n",
        "VAL = load_images(PATH_TO_VAL)\n",
        "TEST = load_images(PATH_TO_TEST)\n",
        "\n",
        "CONNECTION.frames('training').create_fb(DATASET_ID, list(TRAIN))\n",
        "CONNECTION.frames('test').create_fb(DATASET_ID, list(TEST))\n",
        "CONNECTION.frames('validation').create_fb(DATASET_ID, list(VAL))"
      ],
      "metadata": {
        "id": "gqf50Jcm1sjl"
      },
      "execution_count": null,
      "outputs": []
    },
    {
      "cell_type": "markdown",
      "source": [
        "## Run Sampling"
      ],
      "metadata": {
        "id": "dfovQbAE_6y7"
      }
    },
    {
      "cell_type": "markdown",
      "source": [
        "### SaaS sampling"
      ],
      "metadata": {
        "id": "MbLQCj_W32iQ"
      }
    },
    {
      "cell_type": "code",
      "source": [
        "PATH_TO_TRAIN = '/content/train/labels'\n",
        "PATH_TO_VAL = '/content/val/labels'\n",
        "PATH_TO_TEST = '/content/test/labels'\n",
        "\n",
        "TRAIN_INITIAL = load_annotations_yolo(PATH_TO_TRAIN, None, 100)\n",
        "VAL = load_annotations_yolo(PATH_TO_VAL)\n",
        "TEST = load_annotations_yolo(PATH_TO_TEST)\n",
        "\n",
        "CONNECTION.seg_annotation(DATASET_ID).create(\n",
        "    SegmentationAnnotation(\n",
        "        train=TRAIN,\n",
        "        test=TEST,\n",
        "        val=VAL,\n",
        "    )\n",
        ")"
      ],
      "metadata": {
        "id": "AnqgGplV2SmM"
      },
      "execution_count": null,
      "outputs": []
    },
    {
      "cell_type": "code",
      "source": [
        "NUM_STEPS = 6\n",
        "NUM_SAMPLES = 1000 # num samples for al sampling\n",
        "\n",
        "PATH_TO_TRAIN = '/content/train/labels'\n",
        "METRICS_CVAL = []\n",
        "MODEL_TYPE = 'yolo' # yolo for instance segmentation, unet for semantic segmentation (singleclass support only)\n",
        "\n",
        "for i in range(NUM_STEPS):\n",
        "  result = CONNECTION.segmentation().saas_sampling(DATASET_ID, MODEL_TYPE).result\n",
        "  flag = True\n",
        "  while flag:\n",
        "    result_train = CONNECTION.result.get(result.task_id)\n",
        "    time.sleep(10)\n",
        "    if result_train.result is not None:\n",
        "      result_test = CONNECTION.segmentation().saas_test(DATASET_ID, 'yolo').result\n",
        "      while 1:\n",
        "        result_test = CONNECTION.result.get(result.task_id)\n",
        "        time.sleep(10)\n",
        "        if result_test.result is not None:\n",
        "          samples = result_train.result['samples'][:NUM_SAMPLES]\n",
        "          train = load_annotations_yolo(PATH_TO_TRAIN, samples=samples)\n",
        "          CONNECTION.seg_annotation(DATASET_ID).create(\n",
        "                SegmentationAnnotation(\n",
        "                    train=train+TRAIN_INITIAL,\n",
        "                    test=TEST,\n",
        "                    val=VAL,\n",
        "                )\n",
        "            )\n",
        "          flag = False\n",
        "          time.sleep(2)\n",
        "          METRICS_CVAL.append(\n",
        "              result_test.result['metric']\n",
        "          )\n",
        "          break"
      ],
      "metadata": {
        "id": "V7wNL9Yh3yN9"
      },
      "execution_count": null,
      "outputs": []
    },
    {
      "cell_type": "markdown",
      "source": [
        "### Random sampling"
      ],
      "metadata": {
        "id": "zsXf-UU571xX"
      }
    },
    {
      "cell_type": "code",
      "source": [
        "PATH_TO_TRAIN = '/content/train/labels'\n",
        "PATH_TO_VAL = '/content/val/labels'\n",
        "PATH_TO_TEST = '/content/test/labels'\n",
        "\n",
        "TRAIN_INITIAL = load_annotations_yolo(PATH_TO_TRAIN, None, 100)\n",
        "VAL = load_annotations_yolo(PATH_TO_VAL)\n",
        "TEST = load_annotations_yolo(PATH_TO_TEST)\n",
        "\n",
        "CONNECTION.seg_annotation(DATASET_ID).create(\n",
        "    SegmentationAnnotation(\n",
        "        train=TRAIN,\n",
        "        test=TEST,\n",
        "        val=VAL,\n",
        "    )\n",
        ")"
      ],
      "metadata": {
        "id": "60IT5l3d8tND"
      },
      "execution_count": null,
      "outputs": []
    },
    {
      "cell_type": "code",
      "source": [
        "NUM_STEPS = 6\n",
        "NUM_SAMPLES = 1000\n",
        "\n",
        "PATH_TO_TRAIN = '/content/train/lebels'\n",
        "METRICS_RANDOM = []\n",
        "TRAIN_IDS = list(map(lambda x: (Path(PATH_TO_TRAIN) / x).stem, os.listdir(PATH_TO_TRAIN)))\n",
        "\n",
        "for i in range(NUM_STEPS):\n",
        "    if result_train.result is not None:\n",
        "      result_test = CONNECTION.segmentation().saas_test(DATASET_ID, 'yolo').result\n",
        "      while 1:\n",
        "        result_test = CONNECTION.result.get(result.task_id)\n",
        "        time.sleep(10)\n",
        "        if result_test.result is not None:\n",
        "          samples = random.sample(TRAIN_IDS, NUM_SAMPLES)\n",
        "\n",
        "          train = load_annotations_yolo(PATH_TO_TRAIN, samples=samples)\n",
        "          CONNECTION.seg_annotation(DATASET_ID).create(\n",
        "                SegmentationAnnotation(\n",
        "                    train=train+TRAIN_INITIAL,\n",
        "                    test=TEST,\n",
        "                    val=VAL,\n",
        "                )\n",
        "            )\n",
        "          time.sleep(2)\n",
        "          METRICS_RANDOM.append(\n",
        "              result_test.result['metric']\n",
        "          )\n",
        "          break"
      ],
      "metadata": {
        "id": "sIQk0eFU7ogh"
      },
      "execution_count": null,
      "outputs": []
    },
    {
      "cell_type": "markdown",
      "source": [
        "### Profit!"
      ],
      "metadata": {
        "id": "uGk_YNnZAA2e"
      }
    },
    {
      "cell_type": "code",
      "source": [
        "import numpy as np\n",
        "import matplotlib.pyplot as plt\n",
        "iterations = np.arange(1, 7)\n",
        "plt.figure(figsize=(10, 6))\n",
        "plt.plot(iterations, METRICS_RANDOM, marker='o', label='Random Sampling (Slow)')\n",
        "plt.plot(iterations, METRICS_CVAL, marker='o', label='Cval Sampling (Fast)')\n",
        "plt.title('Growth of MAPE from 0.32 to 0.8')\n",
        "plt.xlabel('Iteration')\n",
        "plt.ylabel('MAPE')\n",
        "plt.ylim(0.3, 0.85)\n",
        "plt.grid(True)\n",
        "plt.legend()\n",
        "plt.show()"
      ],
      "metadata": {
        "colab": {
          "base_uri": "https://localhost:8080/",
          "height": 564
        },
        "id": "iK-XnNtf-MoO",
        "outputId": "634569e2-ffa6-48d3-d171-b1c6f15ada2b"
      },
      "execution_count": 5,
      "outputs": [
        {
          "output_type": "display_data",
          "data": {
            "text/plain": [
              "<Figure size 1000x600 with 1 Axes>"
            ],
            "image/png": "[encoded data removed]"
          },
          "metadata": {}
        }
      ]
    },
    {
      "cell_type": "markdown",
      "source": [
        "> Profit!"
      ],
      "metadata": {
        "id": "BBa4v_Xx--Nj"
      }
    },
    {
      "cell_type": "markdown",
      "source": [
        "## After all: on-premise"
      ],
      "metadata": {
        "id": "I3dwLnGvAfWw"
      }
    },
    {
      "cell_type": "markdown",
      "source": [
        "for on-premise sampling try [cval on premise YOLO](https://github.com/fangorntb/cval-lib/blob/main/ipynb/cval_on_premise_YOLO.ipynb)"
      ],
      "metadata": {
        "id": "7EJMPBabArqk"
      }
    }
  ]
}