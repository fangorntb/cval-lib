{
  "nbformat": 4,
  "nbformat_minor": 0,
  "metadata": {
    "colab": {
      "provenance": [],
      "toc_visible": true
    },
    "kernelspec": {
      "name": "python3",
      "display_name": "Python 3"
    },
    "language_info": {
      "name": "python"
    }
  },
  "cells": [
    {
      "cell_type": "markdown",
      "source": [
        "<!-- TOP OF README ANCHOR -->\n",
        "<a name=\"top\"></a>\n",
        "<!-- PROJECT LOGO -->\n",
        "<br />\n",
        "<div align=\"center\">\n",
        "  <p>\n",
        "    <img src=\"https://github.com/fangorntreabeard/cval-lib/blob/main/images/logo.jpg?raw=true\" alt=\"Cval logo\" width=\"155\" height=\"155\">\n",
        "  </p>\n",
        "<h3 align=\"center\">CVAL REST API LIBRARY</h3>\n",
        "  <p align=\"center\">\n",
        "    A library designed to interact with the REST-API cval.ai\n",
        "    <br/>\n",
        "    <b>\n",
        "      <a href=\"https://cval.ai\">REST API docs</a>\n",
        "      ·\n",
        "      <a href=\"https://github.com/fangorntreabeard/cval-lib/issues\">Report Bug</a>\n",
        "    </b>\n",
        "  </p>\n",
        "</div>\n"
      ],
      "metadata": {
        "id": "mEcDI27vbBGD"
      }
    },
    {
      "cell_type": "markdown",
      "source": [
        "# Getting started\n",
        "\n",
        "To start using the CVAL Rest API, you need to **obtain** a **client/user API key**.\n",
        "Once you have your API key, you can use it to authenticate your requests and interact with the CVAL Rest API endpoints.\n",
        "Refer to our API documentation for detailed information on available endpoints, request formats, and response structures.\n"
      ],
      "metadata": {
        "id": "zLTBjQ9XbNqr"
      }
    },
    {
      "cell_type": "markdown",
      "source": [
        "## Installation\n"
      ],
      "metadata": {
        "id": "MVPHfIuBbRSQ"
      }
    },
    {
      "cell_type": "code",
      "execution_count": null,
      "metadata": {
        "id": "1Obj5BL2a7BH"
      },
      "outputs": [],
      "source": [
        "!pip install cval-lib==0.0.2.41"
      ]
    },
    {
      "cell_type": "markdown",
      "source": [
        "# User guide"
      ],
      "metadata": {
        "id": "GRmZeAs-bc6r"
      }
    },
    {
      "cell_type": "markdown",
      "source": [
        "##### Set your user_api_key\n"
      ],
      "metadata": {
        "id": "R6Km0Qwzbran"
      }
    },
    {
      "cell_type": "code",
      "source": [
        "from cval_lib.connection import CVALConnection\n",
        "\n",
        "USER_API_KEY = '...'\n",
        "cval = CVALConnection(USER_API_KEY)"
      ],
      "metadata": {
        "id": "zT0qN2CObpk9"
      },
      "execution_count": null,
      "outputs": []
    },
    {
      "cell_type": "markdown",
      "source": [
        "### Dataset\n",
        " > Within the framework of the created system, datasets are spaces in which data for machine learning is stored.\n",
        " Creating a dataset is similar to creating a folder.\n"
      ],
      "metadata": {
        "id": "deNPf2R3b6XZ"
      }
    },
    {
      "cell_type": "markdown",
      "source": [
        "##### Create dataset"
      ],
      "metadata": {
        "id": "c2v_siaFcH1i"
      }
    },
    {
      "cell_type": "code",
      "source": [
        "ds_id = cval.dataset().create(name='on-premise-scheme-ds', description='')\n",
        "\n",
        "print(ds_id)"
      ],
      "metadata": {
        "id": "j9XeL15Fb-bH"
      },
      "execution_count": null,
      "outputs": []
    },
    {
      "cell_type": "markdown",
      "source": [
        "##### Update dataset"
      ],
      "metadata": {
        "id": "PMbYO0uFcLbV"
      }
    },
    {
      "cell_type": "code",
      "source": [
        "ds = cval.dataset()\n",
        "print(ds.update(ds_id, description='any123 string data', name='sample name'))\n",
        "\n",
        "# :NOTE: the dataset can store the state (ds_id)"
      ],
      "metadata": {
        "id": "lD0dxQl0cEI5"
      },
      "execution_count": null,
      "outputs": []
    },
    {
      "cell_type": "markdown",
      "source": [
        "##### Get dataset\n"
      ],
      "metadata": {
        "id": "JalAfB9cccfO"
      }
    },
    {
      "cell_type": "code",
      "source": [
        "print(ds.get())\n",
        "print(*cval.dataset().get_all(0))"
      ],
      "metadata": {
        "id": "sN56WJ6ucgpy"
      },
      "execution_count": null,
      "outputs": []
    },
    {
      "cell_type": "markdown",
      "source": [
        "### :note:\n",
        "> A further example of using the library concerns embedding. Since embedding is a large data object and the method of its creation is completely defined by the user, the embedding method works through query schemes (models).\n"
      ],
      "metadata": {
        "id": "jrz_KsIfcoYA"
      }
    },
    {
      "cell_type": "markdown",
      "source": [
        "### Embeddings\n",
        "> Embeddings are vector representations of images obtained using pytorch or any other library\n"
      ],
      "metadata": {
        "id": "Y6WgG3uyc7FU"
      }
    },
    {
      "cell_type": "markdown",
      "source": [
        "##### Create embeddings"
      ],
      "metadata": {
        "id": "fUn08yWEdsUV"
      }
    },
    {
      "cell_type": "code",
      "source": [
        "from random import random\n",
        "import uuid\n",
        "from cval_lib.connection import CVALConnection\n",
        "from cval_lib.models.embedding import EmbeddingModel, FrameEmbeddingModel\n",
        "\n",
        "embeddings = list(\n",
        "        map(\n",
        "            lambda x: FrameEmbeddingModel(\n",
        "                frame_id=uuid.uuid4().hex,\n",
        "                embeddings=[\n",
        "                    EmbeddingModel(embedding_id=uuid.uuid4().hex, embedding=list(map(lambda x: random(), range(500))))]\n",
        "            ).dict(),\n",
        "            range(100)\n",
        "        )\n",
        "    )\n",
        "\n",
        "\n",
        "print(embeddings)\n"
      ],
      "metadata": {
        "id": "p6WWD-8qdj4n"
      },
      "execution_count": null,
      "outputs": []
    },
    {
      "cell_type": "markdown",
      "source": [
        "##### Upload & check embeddings\n"
      ],
      "metadata": {
        "id": "kxE0FcO_dv9H"
      }
    },
    {
      "cell_type": "code",
      "source": [
        "emb = cval.embedding(ds_id, 'training')\n",
        "emb.upload_many(embeddings)\n",
        "print(emb.get_many())\n",
        "print(emb.get_meta())"
      ],
      "metadata": {
        "id": "UjYWja1adwup"
      },
      "execution_count": null,
      "outputs": []
    },
    {
      "cell_type": "markdown",
      "source": [
        "### :note:\n",
        "> The following example is used to invoke active learning"
      ],
      "metadata": {
        "id": "ox3s6dCud-ns"
      }
    },
    {
      "cell_type": "markdown",
      "source": [
        "### Active learning"
      ],
      "metadata": {
        "id": "_U-ySwHQeKJg"
      }
    },
    {
      "cell_type": "markdown",
      "source": [
        "##### Get predictions data\n"
      ],
      "metadata": {
        "id": "NGn_SjmCeM3S"
      }
    },
    {
      "cell_type": "code",
      "source": [
        "from random import random\n",
        "import uuid\n",
        "from cval_lib.models.detection import BBoxScores, FramePrediction\n",
        "\n",
        "# :NOTE: example only\n",
        "frames_predictions = list(\n",
        "      map(\n",
        "          lambda x: FramePrediction(\n",
        "              frame_id=str(uuid.uuid4().hex),\n",
        "              predictions=list(\n",
        "                  map(lambda x: BBoxScores(category_id=1, score=random()), range(10)))\n",
        "          ),\n",
        "          range(100)\n",
        "      )\n",
        ")"
      ],
      "metadata": {
        "id": "PTREgtyTeUL1"
      },
      "execution_count": null,
      "outputs": []
    },
    {
      "cell_type": "markdown",
      "source": [
        "##### Construct config"
      ],
      "metadata": {
        "id": "7s35NiZNfJrw"
      }
    },
    {
      "cell_type": "code",
      "source": [
        "from cval_lib.models.detection import DetectionSamplingOnPremise\n",
        "\n",
        "request = DetectionSamplingOnPremise(\n",
        " num_of_samples=200,\n",
        " bbox_selection_policy='min',\n",
        " selection_strategy='margin',\n",
        " sort_strategy='ascending',\n",
        " frames=frames_predictions,\n",
        ")"
      ],
      "metadata": {
        "id": "LW2yk70afIu_"
      },
      "execution_count": null,
      "outputs": []
    },
    {
      "cell_type": "markdown",
      "source": [
        "##### Run active learning"
      ],
      "metadata": {
        "id": "Fskv4oEXejwU"
      }
    },
    {
      "cell_type": "code",
      "source": [
        "emb = cval.detection()\n",
        "print(emb.on_premise_sampling(request))"
      ],
      "metadata": {
        "id": "dDE70hnPeitY"
      },
      "execution_count": null,
      "outputs": []
    },
    {
      "cell_type": "markdown",
      "source": [
        "###:note:\n",
        "> The following method is most relevant when we are dealing with long-term tasks and, accordingly, with asynchronous interaction."
      ],
      "metadata": {
        "id": "KJRR8UYofvnC"
      }
    },
    {
      "cell_type": "markdown",
      "source": [
        "### Polling\n",
        "> refers to actively sampling the status of an external device by a client program as a synchronous activity.\n"
      ],
      "metadata": {
        "id": "Xcm75Dxyf3mv"
      }
    },
    {
      "cell_type": "code",
      "source": [
        "import uuid\n",
        "from random import random, randint\n",
        "from time import sleep\n",
        "\n",
        "frames_predictions = list(\n",
        "        map(\n",
        "            lambda x: FramePrediction(\n",
        "                frame_id=str(uuid.uuid4().hex),\n",
        "                predictions=list(map(lambda _: BBoxScores(category_id=randint(0, 3), score=random()), range(20)))\n",
        "            ),\n",
        "            range(10000)\n",
        "        )\n",
        "    )\n",
        "\n",
        "request = DetectionSamplingOnPremise(\n",
        "        num_of_samples=200,\n",
        "        bbox_selection_policy='min',\n",
        "        selection_strategy='margin',\n",
        "        sort_strategy='ascending',\n",
        "        frames=frames_predictions,\n",
        "    )\n",
        "\n",
        "emb = cval.detection()\n",
        "print(emb.on_premise_sampling(request))\n",
        "\n",
        "result = None\n",
        "sleep_sec = 1\n",
        "while result is None or type(result) is dict:\n",
        "    result = emb.result.get().result\n",
        "    print(f'Polling... {sleep_sec} s')\n",
        "    sleep(sleep_sec)\n",
        "    sleep_sec *= 2\n",
        "print(result)\n"
      ],
      "metadata": {
        "id": "YLw32gy7gIdd"
      },
      "execution_count": null,
      "outputs": []
    },
    {
      "cell_type": "markdown",
      "source": [
        "### Embedding usage"
      ],
      "metadata": {
        "id": "cQ-kvLaCesuC"
      }
    },
    {
      "cell_type": "markdown",
      "source": [
        "#### Generate embeddings"
      ],
      "metadata": {
        "id": "g5eXi4I0eX3o"
      }
    },
    {
      "cell_type": "code",
      "source": [
        "from cval_lib.models.embedding import FrameEmbeddingModel, EmbeddingModel\n",
        "from cval_lib.models.detection import DetectionSamplingOnPremise\n",
        "\n",
        "def get_frames(num_images: int, num_bboxes: int, emb_sz: int, categ_sz: int):\n",
        "    _predictions = []\n",
        "    _embeddings = []\n",
        "    for i in range(num_images):\n",
        "        emb = []\n",
        "        scr = []\n",
        "        image_name = str(uuid.uuid4().hex)\n",
        "        for boxs in range(num_bboxes):\n",
        "            _id = uuid.uuid4().hex\n",
        "            scr.append(\n",
        "                {\n",
        "                    \"embedding_id\": _id,\n",
        "                    \"score\": math.cos(random.random()),\n",
        "                    \"category_id\": random.randint(0, categ_sz),\n",
        "                },\n",
        "            )\n",
        "            emb.append(\n",
        "                EmbeddingModel(**{\n",
        "                    \"embedding_id\": _id,\n",
        "                    \"embedding\": list(map(lambda x: random.random(), range(emb_sz))),\n",
        "                })\n",
        "            )\n",
        "\n",
        "        _embeddings.append(\n",
        "            FrameEmbeddingModel(**{\n",
        "                \"frame_id\": image_name,\n",
        "                \"embeddings\": emb,\n",
        "            }),\n",
        "        )\n",
        "        _predictions.append(\n",
        "            {\n",
        "                \"frame_id\": image_name,\n",
        "                \"predictions\": scr,\n",
        "            },\n",
        "        )\n",
        "    return _embeddings, _predictions\n",
        "\n",
        "\n",
        "embeddings, predictions = get_frames(1000, 1, 500, 1)\n",
        "\n",
        "ds_id = cval.dataset().create(name='asd', description='1a2')\n",
        "print(ds_id)\n",
        "print(cval.embedding(dataset_id=ds_id, part_of_dataset='training').upload_many(embeddings))"
      ],
      "metadata": {
        "id": "gRpyfV57ed7y"
      },
      "execution_count": null,
      "outputs": []
    },
    {
      "cell_type": "markdown",
      "source": [
        "#### Clustering"
      ],
      "metadata": {
        "id": "eiufvAS6VMXH"
      }
    },
    {
      "cell_type": "code",
      "source": [
        "import math\n",
        "import random\n",
        "import uuid\n",
        "from time import sleep\n",
        "\n",
        "# :note: Generate embeddings and scores, for example -- there is random generator:\n",
        "\n",
        "\n",
        "# :note: create config and get task_id\n",
        "\n",
        "task_id = cval.detection().on_premise_sampling(\n",
        "    DetectionSamplingOnPremise(\n",
        "        num_of_samples=20,\n",
        "        dataset_id=ds_id,\n",
        "        selection_strategy='clustering',\n",
        "        frames=predictions,\n",
        "        sort_strategy='ascending',\n",
        "        bbox_selection_policy='sum',\n",
        "    )\n",
        ").task_id\n",
        "\n",
        "result = None\n",
        "sleep_sec = 1\n",
        "\n",
        "# :note: start long-polling\n",
        "while result is None or type(result) is dict:\n",
        "    result = cval.result().get(task_id).result\n",
        "    print(f'Polling... {sleep_sec}')\n",
        "    sleep(sleep_sec)\n",
        "    sleep_sec *= 2\n",
        "\n",
        "print(result)\n"
      ],
      "metadata": {
        "id": "TL3_xr56VIWo"
      },
      "execution_count": null,
      "outputs": []
    },
    {
      "cell_type": "code",
      "source": [
        "import math\n",
        "import random\n",
        "import uuid\n",
        "from time import sleep\n",
        "\n",
        "# :note: create config and get task_id\n",
        "\n",
        "task_id = cval.detection().on_premise_sampling(\n",
        "    DetectionSamplingOnPremise(\n",
        "        num_of_samples=20,\n",
        "        dataset_id=ds_id,\n",
        "        selection_strategy='hierarchical',\n",
        "        frames=predictions,\n",
        "        sort_strategy='ascending',\n",
        "        bbox_selection_policy='sum',\n",
        "    )\n",
        ").task_id\n",
        "\n",
        "result = None\n",
        "sleep_sec = 1\n",
        "\n",
        "# :note: start long-polling\n",
        "while result is None or type(result) is dict:\n",
        "    result = cval.result().get(task_id).result\n",
        "    print(f'Polling... {sleep_sec}')\n",
        "    sleep(sleep_sec)\n",
        "    sleep_sec *= 2\n",
        "\n",
        "print(result)\n"
      ],
      "metadata": {
        "id": "p7F12qclaIoj"
      },
      "execution_count": null,
      "outputs": []
    },
    {
      "cell_type": "markdown",
      "source": [
        "## Entropy. Probabilities usage"
      ],
      "metadata": {
        "id": "3FPqtdohfuQA"
      }
    },
    {
      "cell_type": "code",
      "source": [
        "import random\n",
        "import uuid\n",
        "\n",
        "from cval_lib.connection import CVALConnection\n",
        "from cval_lib.models.detection import (\n",
        "    DetectionSamplingOnPremise,\n",
        "    FramePrediction,\n",
        "    BBoxScores,\n",
        ")\n",
        "\n",
        "\n",
        "# :NOTE: example only -- random list generator\n",
        "def generate_random_array(sz):\n",
        "    random_numbers = tuple(map(lambda x: random.random(), range(sz)))\n",
        "    normalized_numbers = [i/sum(random_numbers) for i in random_numbers]\n",
        "    return normalized_numbers\n",
        "\n",
        "\n",
        "nc = 10\n",
        "prediction_per_frame = 100\n",
        "frames = 100\n",
        "\n",
        "\n",
        "req = DetectionSamplingOnPremise(\n",
        "    bbox_selection_policy='max',\n",
        "    sort_strategy='ascending',\n",
        "    selection_strategy='entropy',\n",
        "    probs_weights=list(generate_random_array(nc)),\n",
        "    # Determines the significance (weight) of the prediction probability for each class.\n",
        "    # The order in the list corresponds to the order of the classes.\n",
        "    num_of_samples=10,\n",
        "    frames=[\n",
        "        FramePrediction(\n",
        "            frame_id=uuid.uuid4().hex,\n",
        "            predictions=[\n",
        "                BBoxScores(\n",
        "                    probabilities=list(generate_random_array(nc)),\n",
        "                    # The probabilities for each object category are relative to a predicted bounding box\n",
        "                    # The order in the list is determined by the category number. sum must be equal to 1\n",
        "                )\n",
        "                for _ in range(prediction_per_frame)\n",
        "            ]\n",
        "        )\n",
        "        for _ in range(frames)\n",
        "    ]\n",
        ")\n",
        "\n",
        "# also we can use \"with construction\"\n",
        "with CVALConnection(USER_API_KEY) as cval:\n",
        "    task_id = cval.detection().on_premise_sampling(req).task_id\n",
        "\n",
        "while result is None or type(result) is dict:\n",
        "    result = cval.result().get(task_id).result\n",
        "    print(f'Polling... {sleep_sec}')\n",
        "    sleep(sleep_sec)\n",
        "    sleep_sec *= 2\n",
        "\n",
        "print(result)"
      ],
      "metadata": {
        "id": "-KRghOSCf39c"
      },
      "execution_count": null,
      "outputs": []
    },
    {
      "cell_type": "markdown",
      "source": [
        "### Method combination"
      ],
      "metadata": {
        "id": "T4E7vYz-U-Cg"
      }
    },
    {
      "cell_type": "code",
      "source": [
        "import copy\n",
        "import json\n",
        "import math\n",
        "import random\n",
        "import uuid\n",
        "from pprint import pprint\n",
        "from time import sleep\n",
        "\n",
        "from cval_lib.connection import CVALConnection\n",
        "from cval_lib.models.detection import DetectionSamplingOnPremise\n",
        "from cval_lib.models.embedding import FrameEmbeddingModel, EmbeddingModel\n",
        "\n",
        "# :note: score generator\n",
        "\n",
        "def get_scores(num_images: int, num_bboxes: int, categ_sz: int):\n",
        "    _predictions = []\n",
        "    for i in range(num_images):\n",
        "        scr = []\n",
        "        image_name = str(uuid.uuid4().hex)\n",
        "        for boxs in range(num_bboxes):\n",
        "            _id = uuid.uuid4().hex\n",
        "            scr.append(\n",
        "                {\n",
        "                    'embedding_id': uuid.uuid4().hex,\n",
        "                    \"score\": math.cos(random.random()),\n",
        "                    \"category_id\": random.randint(0, categ_sz),\n",
        "                },\n",
        "            )\n",
        "        _predictions.append(\n",
        "            {\n",
        "                \"frame_id\": image_name,\n",
        "                \"predictions\": scr,\n",
        "            },\n",
        "        )\n",
        "    return _predictions\n",
        "\n",
        "# :note: embeddings generator for images\n",
        "\n",
        "def get_embeddings(_frames: list[str], _predictions, emb_sz=500):\n",
        "    _embeddings = []\n",
        "    for i in _frames:\n",
        "        for j in _predictions:\n",
        "            if i == j.get('frame_id'):\n",
        "                emb = [\n",
        "                    EmbeddingModel(**{\n",
        "                        \"embedding_id\": k.get('embedding_id'),\n",
        "                        \"embedding\": list(map(lambda x: random.random(), range(emb_sz))),\n",
        "                    }) for k in j.get('predictions')\n",
        "                ]\n",
        "\n",
        "                _embeddings.append(\n",
        "                    FrameEmbeddingModel(**{\n",
        "                        \"frame_id\": j.get('frame_id'),\n",
        "                        \"embeddings\": emb,\n",
        "                    }),\n",
        "                )\n",
        "    return _embeddings\n",
        "\n",
        "# :note: 500 detections with 14 scores, 2 categories\n",
        "\n",
        "predictions = get_scores(500, 14, 1)\n",
        "\n",
        "ds_id = cval.dataset().create(name='asd', description='1a2')\n",
        "\n",
        "task_id = cval.detection().on_premise_sampling(\n",
        "    DetectionSamplingOnPremise(\n",
        "        num_of_samples=20,\n",
        "        dataset_id=ds_id,\n",
        "        selection_strategy='entropy',\n",
        "        sort_strategy='ascending',\n",
        "        bbox_selection_policy='sum',\n",
        "        frames=predictions,\n",
        "    )\n",
        ").task_id\n",
        "\n",
        "result = None\n",
        "sleep_sec = 1\n",
        "\n",
        "# :note: start polling for first sample\n",
        "\n",
        "while result is None or type(result) is dict:\n",
        "    result = cval.result().get(task_id).result\n",
        "    print(f'Polling... {sleep_sec}')\n",
        "    sleep(sleep_sec)\n",
        "    sleep_sec *= 2\n",
        "\n",
        "pprint(result)\n",
        "print(task_id)\n",
        "# :note: upload embedding for first sample\n",
        "\n",
        "cval.embedding(dataset_id=ds_id, part_of_dataset='training').upload_many(get_embeddings(result, predictions))\n",
        "\n",
        "# :note: start polling for second sample\n",
        "\n",
        "task_id = cval.detection().on_premise_sampling(\n",
        "    DetectionSamplingOnPremise(\n",
        "        num_of_samples=2,\n",
        "        # :note: requires: len(first_sample) > len(second_sample)\n",
        "        dataset_id=ds_id,\n",
        "        bbox_selection_policy='mean',\n",
        "        sort_strategy='ascending',\n",
        "        selection_strategy='clustering',\n",
        "        frames=list(filter(lambda x: x.get('frame_id') in result, predictions)),\n",
        "    )\n",
        ").task_id\n",
        "\n",
        "\n",
        "result = None\n",
        "sleep_sec = 1\n",
        "\n",
        "while result is None or type(result) is dict:\n",
        "    result = cval.result().get(task_id).result\n",
        "    print(f'Polling... {sleep_sec}')\n",
        "    sleep(sleep_sec)\n",
        "    sleep_sec *= 2\n",
        "\n",
        "pprint(result)"
      ],
      "metadata": {
        "id": "3yIAQwXbU8Zw"
      },
      "execution_count": null,
      "outputs": []
    }
  ]
}